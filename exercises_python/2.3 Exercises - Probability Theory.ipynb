{
 "cells": [
  {
   "cell_type": "markdown",
   "metadata": {},
   "source": [
    "# 2.3 Exercises - Probability Theory"
   ]
  },
  {
   "cell_type": "markdown",
   "metadata": {},
   "source": [
    "#### 1. Sampling\n",
    "Suppose you are the lottery fairy in a weekly lottery, where $6$ out of $49$ *unique* numbers are drawn.\n",
    "\n",
    "**Instructions:**\n",
    "  + Draw the winning numbers for this week."
   ]
  },
  {
   "cell_type": "code",
   "execution_count": 1,
   "metadata": {},
   "outputs": [],
   "source": [
    "import math\n",
    "\n",
    "import numpy as np\n",
    "import matplotlib.pyplot as plt\n",
    "%matplotlib inline\n",
    "\n",
    "from scipy import integrate, stats"
   ]
  },
  {
   "cell_type": "code",
   "execution_count": 2,
   "metadata": {},
   "outputs": [
    {
     "data": {
      "text/plain": [
       "array([46,  3, 29, 35, 39, 18])"
      ]
     },
     "execution_count": 2,
     "metadata": {},
     "output_type": "execute_result"
    }
   ],
   "source": [
    "np.random.seed(seed=123)\n",
    "np.random.randint(low=1, high=50, size=6)"
   ]
  },
  {
   "cell_type": "markdown",
   "metadata": {},
   "source": [
    "#### 2. Probability Density Function\n",
    "Consider a random variable $X$ with probability density function (PDF)\n",
    "\n",
    "$$f_X(x)=\\frac{x}{4}e^{-x^2/8},\\quad x\\geq 0.$$\n",
    "\n",
    "**Instructions:**\n",
    "  + Define the PDF from above as a function <tt>f()</tt>. <tt>exp(a)</tt> computes $e^a$.\n",
    "  + Check whether the function you have defined is indeed a PDF."
   ]
  },
  {
   "cell_type": "code",
   "execution_count": 3,
   "metadata": {},
   "outputs": [
    {
     "data": {
      "text/plain": [
       "(1.0, 2.1730298600934144e-09)"
      ]
     },
     "execution_count": 3,
     "metadata": {},
     "output_type": "execute_result"
    }
   ],
   "source": [
    "def f(x):\n",
    "    return x/4*math.exp(-x**2/8)\n",
    "\n",
    "integrate.quad(f, 0, np.inf)"
   ]
  },
  {
   "cell_type": "markdown",
   "metadata": {},
   "source": [
    "#### 3. Expected Value and Variance\n",
    "In this exercise you have to compute the expected value and the variance of the random variable $X$ considered in the previous exercise.\n",
    "The PDF <tt>f()</tt> from the previous exercise is available in your working environment.\n",
    "\n",
    "**Instructions:**\n",
    "  + Define a suitable function <tt>ex()</tt> which integrates to the expected value of $X$.\n",
    "  + Compute the expected value of $X$. Store the result in <tt>expected_value</tt>.\n",
    "  + Define a suitable function <tt>ex2()</tt> which integrates to the expected value of $X^2$.\n",
    "  + Compute the variance of $X$. Store the result in <tt>variance</tt>."
   ]
  },
  {
   "cell_type": "code",
   "execution_count": 4,
   "metadata": {},
   "outputs": [],
   "source": [
    "# define the function ex\n",
    "def ex(x):\n",
    "    return x*f(x)\n",
    "\n",
    "# compute the expected value of X\n",
    "expected_value = integrate.quad(ex, 0, np.inf)[0]\n",
    "\n",
    "# define the function ex2\n",
    "def ex2(x):\n",
    "    return x**2*f(x)\n",
    "\n",
    "# compute the variance of X\n",
    "variance = integrate.quad(ex2, 0, np.inf)[0] - expected_value**2"
   ]
  },
  {
   "cell_type": "markdown",
   "metadata": {},
   "source": [
    "#### 4. Standard Normal Distribution I\n",
    "\n",
    "Let $Z\\sim\\mathcal{N}(0, 1)$.\n",
    "\n",
    "**Instructions:**\n",
    "  + Compute $\\phi(3)$, that is, the value of the standard normal density at $c=3$."
   ]
  },
  {
   "cell_type": "code",
   "execution_count": 5,
   "metadata": {},
   "outputs": [
    {
     "data": {
      "text/plain": [
       "0.0044318484119380075"
      ]
     },
     "execution_count": 5,
     "metadata": {},
     "output_type": "execute_result"
    }
   ],
   "source": [
    "stats.norm.pdf(3)"
   ]
  },
  {
   "cell_type": "markdown",
   "metadata": {},
   "source": [
    "#### 5. Standard Normal Distribution II\n",
    "\n",
    "Let $Z\\sim\\mathcal{N}(0, 1)$.\n",
    "\n",
    "**Instructions:**\n",
    "  + Compute $P(|Z|\\leq 1.64)$ by using the function <tt>pnorm()</tt>."
   ]
  },
  {
   "cell_type": "code",
   "execution_count": 6,
   "metadata": {},
   "outputs": [
    {
     "data": {
      "text/plain": [
       "0.8989948330517925"
      ]
     },
     "execution_count": 6,
     "metadata": {},
     "output_type": "execute_result"
    }
   ],
   "source": [
    "# compute the probability\n",
    "stats.norm.cdf(1.64) - stats.norm.cdf(-1.64)"
   ]
  },
  {
   "cell_type": "markdown",
   "metadata": {},
   "source": [
    "#### 6. Normal Distribution I\n",
    "\n",
    "Let $Y\\sim\\mathcal{N}(5, 25)$.\n",
    "\n",
    "**Instructions:**\n",
    "  + Compute the 99% quantile of the given distribution, i.e., find $y$ such that $\\Phi(\\frac{y-5}{5})=0.99$."
   ]
  },
  {
   "cell_type": "code",
   "execution_count": 7,
   "metadata": {},
   "outputs": [
    {
     "data": {
      "text/plain": [
       "16.631739370204205"
      ]
     },
     "execution_count": 7,
     "metadata": {},
     "output_type": "execute_result"
    }
   ],
   "source": [
    "# compute the 99% quantile of a normal distribution with mu = 5 and sigma^2 = 25.\n",
    "stats.norm.ppf(0.99, 5, np.sqrt(25))"
   ]
  },
  {
   "cell_type": "markdown",
   "metadata": {},
   "source": [
    "#### 7. Normal Distribution II\n",
    "\n",
    "Let $Y\\sim\\mathcal{N}(2, 12)$.\n",
    "\n",
    "**Instructions:**\n",
    "  + Generate $10$ random numbers from this distribution."
   ]
  },
  {
   "cell_type": "code",
   "execution_count": 8,
   "metadata": {},
   "outputs": [
    {
     "data": {
      "text/plain": [
       "array([ 3.63847098, -0.36052849,  2.83983505, -3.89152106,  4.60896331,\n",
       "       -3.31643067,  2.01776072,  1.58351913, -0.79546723, 11.9482742 ])"
      ]
     },
     "execution_count": 8,
     "metadata": {},
     "output_type": "execute_result"
    }
   ],
   "source": [
    "# generate 10 random numbers from the given distribution.\n",
    "stats.norm.rvs(loc=2, scale=np.sqrt(12), size=10, random_state=12)"
   ]
  },
  {
   "cell_type": "markdown",
   "metadata": {},
   "source": [
    "#### 8. Chi-squared Distribution I\n",
    "\n",
    "Let $W\\sim\\chi^2_{10}$.\n",
    "\n",
    "**Instructions:**\n",
    "  + Plot the corresponding PDF using <tt>curve()</tt>. Specify the range of x-values as $[0,25]$ via the argument <tt>xlim</tt>."
   ]
  },
  {
   "cell_type": "code",
   "execution_count": 9,
   "metadata": {},
   "outputs": [
    {
     "data": {
      "image/png": "[encoded data removed]",
      "text/plain": [
       "<Figure size 432x288 with 1 Axes>"
      ]
     },
     "metadata": {
      "needs_background": "light"
     },
     "output_type": "display_data"
    }
   ],
   "source": [
    "# plot the PDF of a chi^2 random variable with df = 10\n",
    "\n",
    "x = np.arange(0, 25)\n",
    "plt.plot(x, stats.chi2.pdf(x, df=10))\n",
    "plt.show()"
   ]
  },
  {
   "cell_type": "markdown",
   "metadata": {},
   "source": [
    "#### 9. Chi-squared Distribution II\n",
    "\n",
    "Let $X_1$ and $X_2$ be two independent normally distributed random variables with $\\\\mu=0$ and $\\\\sigma^2=15$.\n",
    "\n",
    "**Instructions:**\n",
    "  + Compute $P(X_1^2+X_2^2>10)$."
   ]
  },
  {
   "cell_type": "code",
   "execution_count": 10,
   "metadata": {},
   "outputs": [
    {
     "data": {
      "text/plain": [
       "0.7165313105737892"
      ]
     },
     "execution_count": 10,
     "metadata": {},
     "output_type": "execute_result"
    }
   ],
   "source": [
    "# compute the probability\n",
    "\n",
    "stats.chi2.sf(10/15, df=2, loc=0, scale=1)"
   ]
  },
  {
   "cell_type": "markdown",
   "metadata": {},
   "source": [
    "#### 10. Student t Distribution I\n",
    "\n",
    "Let $X\\sim t_{10000}$ and $Z\\sim\\mathcal{N}(0,1)$.\n",
    "\n",
    "**Instructions:**\n",
    "  + Compute the $95\\%$ quantile of both distributions. What do you notice?"
   ]
  },
  {
   "cell_type": "code",
   "execution_count": 11,
   "metadata": {},
   "outputs": [
    {
     "name": "stdout",
     "output_type": "stream",
     "text": [
      "1.6450060180692423\n",
      "1.6448536269514722\n"
     ]
    }
   ],
   "source": [
    "# compute the 95% quantile of a t distribution with 10000 degrees of freedom\n",
    "# qt(0.95, df = 10000)\n",
    "\n",
    "print(stats.t.ppf(0.95, df = 10000))\n",
    "\n",
    "# compute the 95% quantile of a standard normal distribution\n",
    "\n",
    "print(stats.norm.ppf(0.95))\n",
    "\n",
    "# both values are very close to each other. This is not surprising as for sufficient large degrees of freedom the t distribution can be approximated by the standard normal distribution."
   ]
  },
  {
   "cell_type": "markdown",
   "metadata": {},
   "source": [
    "#### 11. Student t Distribution II\n",
    "\n",
    "Let $X\\sim t_1$. Once the session has initialized you will see the plot of the corresponding probability density function (PDF).\n",
    "\n",
    "**Instructions:**\n",
    "  + Generate $1000$ random numbers from this distribution and assign them to the variable <tt>x</tt>.\n",
    "  + Compute the sample mean of <tt>x</tt>. Can you explain the result?"
   ]
  },
  {
   "cell_type": "code",
   "execution_count": 12,
   "metadata": {},
   "outputs": [
    {
     "data": {
      "text/plain": [
       "10.845661965991818"
      ]
     },
     "execution_count": 12,
     "metadata": {},
     "output_type": "execute_result"
    }
   ],
   "source": [
    "# generate 1000 random numbers from the given distribution. Assign them to the variable x.\n",
    "x = stats.t.rvs(df = 1, size = 1000, random_state = 1)\n",
    "\n",
    "# compute the sample mean of x.\n",
    "np.mean(x)\n",
    "\n",
    "# Although a t distribution with M = 1 is, as every other t distribution, symmetric around zero it actually has no expectation. This explains the highly non-zero value for the sample mean."
   ]
  },
  {
   "cell_type": "markdown",
   "metadata": {},
   "source": [
    "#### 12. F Distribution I\n",
    "\n",
    "Let $Y\\sim F(10, 4)$.\n",
    "\n",
    "**Instructions:**\n",
    "  + Plot the quantile function of the given distribution using the function <tt>curve()</tt>."
   ]
  },
  {
   "cell_type": "code",
   "execution_count": 13,
   "metadata": {},
   "outputs": [
    {
     "data": {
      "image/png": "[encoded data removed]",
      "text/plain": [
       "<Figure size 432x288 with 1 Axes>"
      ]
     },
     "metadata": {
      "needs_background": "light"
     },
     "output_type": "display_data"
    }
   ],
   "source": [
    "# plot the quantile function of the given distribution\n",
    "\n",
    "dfn = 10\n",
    "dfd = 4\n",
    "\n",
    "x = np.linspace(stats.f.ppf(0.01, dfn, dfd),\n",
    "                stats.f.ppf(0.99, dfn, dfd), 100)\n",
    "\n",
    "plt.plot(stats.f.pdf(x = x, dfn = dfn, dfd = dfd))\n",
    "plt.show()"
   ]
  },
  {
   "cell_type": "markdown",
   "metadata": {},
   "source": [
    "#### 13. F Distribution II\n",
    "\n",
    "Let $Y\\sim F(4,5)$.\n",
    "\n",
    "**Instructions:**\n",
    "  + Compute $P(1<Y<10)$ by integration of the PDF."
   ]
  },
  {
   "cell_type": "code",
   "execution_count": 14,
   "metadata": {},
   "outputs": [
    {
     "data": {
      "text/plain": [
       "0.4723970230052129"
      ]
     },
     "execution_count": 14,
     "metadata": {},
     "output_type": "execute_result"
    }
   ],
   "source": [
    "# compute the probability by integration\n",
    "\n",
    "dfn = 4\n",
    "dfd = 5\n",
    "\n",
    "x = np.linspace(stats.f.ppf(0.01, dfn, dfd),\n",
    "                stats.f.ppf(0.99, dfn, dfd), 100)\n",
    "\n",
    "def function(x):\n",
    "    return stats.f.pdf(x = x, dfn = dfn, dfd = dfd)\n",
    "\n",
    "integrate.quad(function, 1, 10)[0]"
   ]
  }
 ],
 "metadata": {
  "kernelspec": {
   "display_name": "Python 3",
   "language": "python",
   "name": "python3"
  },
  "language_info": {
   "codemirror_mode": {
    "name": "ipython",
    "version": 3
   },
   "file_extension": ".py",
   "mimetype": "text/x-python",
   "name": "python",
   "nbconvert_exporter": "python",
   "pygments_lexer": "ipython3",
   "version": "3.7.4"
  }
 },
 "nbformat": 4,
 "nbformat_minor": 4
}
